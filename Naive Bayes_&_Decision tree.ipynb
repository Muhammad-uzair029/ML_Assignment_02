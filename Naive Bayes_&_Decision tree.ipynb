{
 "cells": [
  {
   "cell_type": "code",
   "execution_count": 1,
   "metadata": {},
   "outputs": [],
   "source": [
    "import pandas as pd\n",
    "import numpy as np\n",
    "from sklearn import tree\n",
    "import matplotlib.pyplot as plt\n"
   ]
  },
  {
   "cell_type": "code",
   "execution_count": 2,
   "metadata": {},
   "outputs": [
    {
     "data": {
      "text/html": [
       "<div>\n",
       "<style scoped>\n",
       "    .dataframe tbody tr th:only-of-type {\n",
       "        vertical-align: middle;\n",
       "    }\n",
       "\n",
       "    .dataframe tbody tr th {\n",
       "        vertical-align: top;\n",
       "    }\n",
       "\n",
       "    .dataframe thead th {\n",
       "        text-align: right;\n",
       "    }\n",
       "</style>\n",
       "<table border=\"1\" class=\"dataframe\">\n",
       "  <thead>\n",
       "    <tr style=\"text-align: right;\">\n",
       "      <th></th>\n",
       "      <th>mpg</th>\n",
       "      <th>cylinders</th>\n",
       "      <th>displacement</th>\n",
       "      <th>horsepower</th>\n",
       "      <th>weight</th>\n",
       "      <th>acceleration</th>\n",
       "      <th>model year</th>\n",
       "      <th>origin</th>\n",
       "    </tr>\n",
       "  </thead>\n",
       "  <tbody>\n",
       "    <tr>\n",
       "      <td>0</td>\n",
       "      <td>15.0</td>\n",
       "      <td>8</td>\n",
       "      <td>350.0</td>\n",
       "      <td>165</td>\n",
       "      <td>3693</td>\n",
       "      <td>11.5</td>\n",
       "      <td>70</td>\n",
       "      <td>1</td>\n",
       "    </tr>\n",
       "    <tr>\n",
       "      <td>1</td>\n",
       "      <td>18.0</td>\n",
       "      <td>8</td>\n",
       "      <td>318.0</td>\n",
       "      <td>150</td>\n",
       "      <td>3436</td>\n",
       "      <td>11.0</td>\n",
       "      <td>70</td>\n",
       "      <td>1</td>\n",
       "    </tr>\n",
       "    <tr>\n",
       "      <td>2</td>\n",
       "      <td>17.0</td>\n",
       "      <td>8</td>\n",
       "      <td>302.0</td>\n",
       "      <td>140</td>\n",
       "      <td>3449</td>\n",
       "      <td>10.5</td>\n",
       "      <td>70</td>\n",
       "      <td>1</td>\n",
       "    </tr>\n",
       "    <tr>\n",
       "      <td>3</td>\n",
       "      <td>15.0</td>\n",
       "      <td>8</td>\n",
       "      <td>429.0</td>\n",
       "      <td>198</td>\n",
       "      <td>4341</td>\n",
       "      <td>10.0</td>\n",
       "      <td>70</td>\n",
       "      <td>1</td>\n",
       "    </tr>\n",
       "    <tr>\n",
       "      <td>4</td>\n",
       "      <td>14.0</td>\n",
       "      <td>8</td>\n",
       "      <td>440.0</td>\n",
       "      <td>215</td>\n",
       "      <td>4312</td>\n",
       "      <td>8.5</td>\n",
       "      <td>70</td>\n",
       "      <td>1</td>\n",
       "    </tr>\n",
       "  </tbody>\n",
       "</table>\n",
       "</div>"
      ],
      "text/plain": [
       "    mpg  cylinders  displacement  horsepower  weight  acceleration  \\\n",
       "0  15.0          8         350.0         165    3693          11.5   \n",
       "1  18.0          8         318.0         150    3436          11.0   \n",
       "2  17.0          8         302.0         140    3449          10.5   \n",
       "3  15.0          8         429.0         198    4341          10.0   \n",
       "4  14.0          8         440.0         215    4312           8.5   \n",
       "\n",
       "   model year  origin  \n",
       "0          70       1  \n",
       "1          70       1  \n",
       "2          70       1  \n",
       "3          70       1  \n",
       "4          70       1  "
      ]
     },
     "execution_count": 2,
     "metadata": {},
     "output_type": "execute_result"
    }
   ],
   "source": [
    "df = pd.read_excel(r\"C:\\Users\\HP\\Assignment_2\\trainning_Dataset.xlsx\")\n",
    "# df = df.dropna(axis='columns', how='all')\n",
    "# df.drop(['displacement','horsepower',\t'weight','origin'],axis='columns',inplace=True)\n",
    "\n",
    "\n",
    "df_test = pd.read_excel(r\"C:\\Users\\HP\\Assignment_2\\test_Dataset.xlsx\")\n",
    "\n",
    "\n",
    "df_test = df_test.dropna(axis='columns', how='all')\n",
    "# Drop the null rows\n",
    "df_test= df_test.dropna()\n",
    "# df_test.head()\n",
    "df.head()\n"
   ]
  },
  {
   "cell_type": "code",
   "execution_count": 42,
   "metadata": {},
   "outputs": [],
   "source": [
    "# test_splt varaibles for trainning datasets\n",
    "inputs = df.drop('origin',axis='columns').astype('int')\n",
    "target = df.origin.astype('int')\n",
    "# test_splt varaibles for testing datasets\n",
    "inputs_test = df_test.drop('origin',axis='columns').astype('int')\n",
    "target_test = df_test.origin.astype('int')"
   ]
  },
  {
   "cell_type": "code",
   "execution_count": 43,
   "metadata": {},
   "outputs": [],
   "source": [
    "#here is my testing dataset splition ; and i set the testing data set to 99 percent\n",
    "from sklearn.model_selection import train_test_split\n",
    "X_train_test, X_test_test, y_train_test, y_test_test = train_test_split(inputs_test,target_test,test_size=0.99)\n"
   ]
  },
  {
   "cell_type": "code",
   "execution_count": 44,
   "metadata": {},
   "outputs": [],
   "source": [
    "#i split the trainnnig datasets and testing data is set to 0.05  bcz i never use this testing data \n",
    "from sklearn import tree\n",
    "X_train1, X_test1, y_train1, y_test1 = train_test_split(inputs,target,test_size=0.05)\n",
    "X_train2, X_test2, y_train2, y_test2 = train_test_split(inputs,target,test_size=0.05,random_state=160)\n",
    "X_train3, X_test3, y_train3, y_test3 = train_test_split(inputs,target,test_size=0.05,random_state=240)\n"
   ]
  },
  {
   "cell_type": "code",
   "execution_count": 45,
   "metadata": {},
   "outputs": [
    {
     "name": "stdout",
     "output_type": "stream",
     "text": [
      "Accuracy of First Subset Dataset 77.86259541984732 %\n",
      "Accuracy of Second Subset Dataset 79.38931297709924 %\n",
      "Accuracy of Second Subset Dataset 77.86259541984732 %\n"
     ]
    }
   ],
   "source": [
    "\n",
    "\n",
    "model1 = tree.DecisionTreeClassifier()\n",
    "model1.fit(X_train1,y_train1)\n",
    "model1_accuracy=model2.score(X_test_test,y_test_test)\n",
    "\n",
    "\n",
    "\n",
    "model2 = tree.DecisionTreeClassifier(max_depth=12)\n",
    "model2.fit(X_train2,y_train2)\n",
    "model2_accuracy=model2.score(X_test_test,y_test_test)\n",
    " \n",
    "\n",
    "model3 = tree.DecisionTreeClassifier(max_depth=9)\n",
    "model3.fit(X_train3,y_train3)\n",
    "model3_accuracy=model3.score(X_test_test,y_test_test)\n",
    "\n",
    "\n",
    "\n",
    "\n",
    "print('Accuracy of First Subset Dataset',model1_accuracy*100,'%')\n",
    "print('Accuracy of Second Subset Dataset',model2_accuracy*100,'%')\n",
    "print('Accuracy of Second Subset Dataset',model3_accuracy*100,'%')\n",
    "\n"
   ]
  },
  {
   "cell_type": "code",
   "execution_count": 25,
   "metadata": {},
   "outputs": [],
   "source": [
    "# SVC SECTION START\n",
    "\n"
   ]
  },
  {
   "cell_type": "code",
   "execution_count": 46,
   "metadata": {},
   "outputs": [],
   "source": [
    "from sklearn.svm import SVC"
   ]
  },
  {
   "cell_type": "code",
   "execution_count": 47,
   "metadata": {},
   "outputs": [
    {
     "name": "stdout",
     "output_type": "stream",
     "text": [
      "Accuracy of First Subset Dataset 79.38931297709924 %\n",
      "Accuracy of Second Subset Dataset 75.57251908396947 %\n",
      "Accuracy of Second Subset Dataset 75.57251908396947 %\n"
     ]
    }
   ],
   "source": [
    "\n",
    "model1 = SVC(gamma='auto',kernel='linear')\n",
    "model1.fit(X_train1,y_train1)\n",
    "model1_accuracy=model2.score(X_test_test,y_test_test)\n",
    "\n",
    "\n",
    "\n",
    "model2 = SVC(gamma='auto',kernel='linear')\n",
    "model2.fit(X_train2,y_train2)\n",
    "model2_accuracy=model2.score(X_test_test,y_test_test)\n",
    " \n",
    "\n",
    "model3 = SVC(gamma='auto',kernel='linear')\n",
    "model3.fit(X_train3,y_train3)\n",
    "model3_accuracy=model3.score(X_test_test,y_test_test)\n",
    "\n",
    "\n",
    "\n",
    "\n",
    "print('Accuracy of First Subset Dataset',model1_accuracy*100,'%')\n",
    "print('Accuracy of Second Subset Dataset',model2_accuracy*100,'%')\n",
    "print('Accuracy of Second Subset Dataset',model3_accuracy*100,'%')\n"
   ]
  },
  {
   "cell_type": "code",
   "execution_count": 51,
   "metadata": {},
   "outputs": [],
   "source": [
    "df0 = df[:80]\n",
    "df1 = df[80:160]\n",
    "df2 = df[161:]"
   ]
  },
  {
   "cell_type": "code",
   "execution_count": 52,
   "metadata": {},
   "outputs": [
    {
     "data": {
      "text/plain": [
       "<matplotlib.collections.PathCollection at 0x25ad69f0788>"
      ]
     },
     "execution_count": 52,
     "metadata": {},
     "output_type": "execute_result"
    },
    {
     "data": {
      "image/png": "[encoded data removed]",
      "text/plain": [
       "<Figure size 432x288 with 1 Axes>"
      ]
     },
     "metadata": {
      "needs_background": "light"
     },
     "output_type": "display_data"
    }
   ],
   "source": [
    "plt.xlabel('mpg')\n",
    "plt.ylabel('origin')\n",
    "plt.scatter(df0['mpg'], df0['origin'],color=\"green\",marker='+')\n",
    "plt.scatter(df1['mpg'], df1['origin'],color=\"blue\",marker='.')\n"
   ]
  },
  {
   "cell_type": "code",
   "execution_count": null,
   "metadata": {},
   "outputs": [],
   "source": []
  },
  {
   "cell_type": "code",
   "execution_count": null,
   "metadata": {},
   "outputs": [],
   "source": []
  }
 ],
 "metadata": {
  "kernelspec": {
   "display_name": "Python 3",
   "language": "python",
   "name": "python3"
  },
  "language_info": {
   "codemirror_mode": {
    "name": "ipython",
    "version": 3
   },
   "file_extension": ".py",
   "mimetype": "text/x-python",
   "name": "python",
   "nbconvert_exporter": "python",
   "pygments_lexer": "ipython3",
   "version": "3.7.4"
  }
 },
 "nbformat": 4,
 "nbformat_minor": 2
}
